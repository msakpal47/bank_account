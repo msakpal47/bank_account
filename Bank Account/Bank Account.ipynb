{
 "cells": [
  {
   "cell_type": "code",
   "execution_count": null,
   "id": "60d57867",
   "metadata": {},
   "outputs": [],
   "source": []
  },
  {
   "cell_type": "code",
   "execution_count": null,
   "id": "7bfd7022",
   "metadata": {},
   "outputs": [],
   "source": []
  },
  {
   "cell_type": "code",
   "execution_count": 2,
   "id": "cb9e1930",
   "metadata": {},
   "outputs": [],
   "source": [
    "#Bank Account "
   ]
  },
  {
   "cell_type": "code",
   "execution_count": 1,
   "id": "2eeeb03d",
   "metadata": {},
   "outputs": [
    {
     "name": "stdout",
     "output_type": "stream",
     "text": [
      "2000\n",
      "1500\n"
     ]
    }
   ],
   "source": [
    "\n",
    "\n",
    "class BankAccount(object):\n",
    "    defaultAccNumber = 1        # Class Attribute\n",
    "\n",
    "    def __init__(self, name, balance = 0):\n",
    "        self.name = name\n",
    "        self.balance = balance\n",
    "        self.accountNumber = BankAccount.defaultAccNumber\n",
    "        BankAccount.defaultAccNumber = BankAccount.defaultAccNumber + 1\n",
    "\n",
    "    def deposit(self, amount):\n",
    "        self.balance += amount\n",
    "\n",
    "    def withdraw(self, amount):\n",
    "        if self.balance < amount:\n",
    "            print('Not enough balance!')\n",
    "        else:\n",
    "            self.balance -= amount\n",
    "\n",
    "    def getBalance(self):\n",
    "        return self.balance\n",
    "\n",
    "if __name__ == '__main__':\n",
    "    myObj = BankAccount('Omkar', 1000)\n",
    "    myObj.deposit(1000)\n",
    "    print(myObj.getBalance())\n",
    "    myObj.withdraw(500)\n",
    "    print(myObj.getBalance())"
   ]
  },
  {
   "cell_type": "code",
   "execution_count": null,
   "id": "43614088",
   "metadata": {},
   "outputs": [],
   "source": []
  }
 ],
 "metadata": {
  "kernelspec": {
   "display_name": "Python 3 (ipykernel)",
   "language": "python",
   "name": "python3"
  },
  "language_info": {
   "codemirror_mode": {
    "name": "ipython",
    "version": 3
   },
   "file_extension": ".py",
   "mimetype": "text/x-python",
   "name": "python",
   "nbconvert_exporter": "python",
   "pygments_lexer": "ipython3",
   "version": "3.11.5"
  }
 },
 "nbformat": 4,
 "nbformat_minor": 5
}
